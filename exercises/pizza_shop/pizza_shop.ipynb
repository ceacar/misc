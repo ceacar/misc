{
 "cells": [
  {
   "cell_type": "markdown",
   "metadata": {},
   "source": [
    "Here's the scenario: We have a pizza shop, and customers place orders for pizzas. We need to figure out how much of each ingredient we need for our pizzas to fill all of the orders. Here's our ingredients table to define it:"
   ]
  },
  {
   "cell_type": "code",
   "execution_count": 1,
   "metadata": {},
   "outputs": [],
   "source": [
    "# We use a multiplier to ensure consistent ingredient quantities.\n",
    "# A medium pizza will always gets exactly 1.25 times as many\n",
    "# ingredients as a small, across all ingredients\n",
    "mult = {\n",
    "    'Small': 1.0,\n",
    "    'Medium': 1.25,\n",
    "    'Large': 1.5,\n",
    "    'Extra-Large': 2.0,\n",
    "}\n",
    "\n",
    "# We specify the amounts we would use for each ingredient in\n",
    "# grams for a small pizza.\n",
    "quantities = {\n",
    "    'dough': 100,\n",
    "    'sauce': 75,\n",
    "    'cheese': 100,\n",
    "    'pepperoni': 75,\n",
    "    'sausage': 66,\n",
    "    'peppers': 100,\n",
    "    'onions': 50,\n",
    "}\n",
    "\n",
    "# We list out the ingredients for each pizza here\n",
    "recipes = {\n",
    "    'meaty': ['pepperoni', 'sausage', 'dough', 'cheese', 'sauce'],\n",
    "    'vegetarian': ['peppers', 'onions', 'dough', 'cheese', 'sauce'],\n",
    "    'custom': ['dough', 'cheese', 'sauce']\n",
    "}"
   ]
  },
  {
   "cell_type": "markdown",
   "metadata": {},
   "source": [
    "For example, if we needed to make a small meaty pizza, we would need 100g of dough, 75g of sauce, 100g of cheese, 75g of pepperoni, and 66g of sausage. If we needed an extra-large version, we would need 200g of dough, 150g of sauce,  200g of cheese, 150g of pepperoni, and 132g of sausage.\n",
    "\n",
    "When a customer places an order, they can add additional toppings. They can even double up, so they include double pepperoni for instance. We don't allow removal though. Our technology just doesn't support it right.\n",
    "\n",
    "Our shop has just received a bunch of orders. They were received in an avro encoded format. Here's the exact message we received:"
   ]
  },
  {
   "cell_type": "code",
   "execution_count": 2,
   "metadata": {},
   "outputs": [],
   "source": [
    "orders = b'Obj\\x01\\x04\\x14avro.codec\\x08null\\x16avro.schema\\xb0\\x0c[{\"type\": \"enum\", \"name\": \"Type\", \"symbols\": [\"Custom\", \"Meaty\", \"Vegetarian\"]}, {\"type\": \"enum\", \"name\": \"Size\", \"symbols\": [\"Small\", \"Medium\", \"Large\", \"Extra-Large\"]}, {\"type\": \"enum\", \"name\": \"AdditionalToppings\", \"symbols\": [\"Pepperoni\", \"Sausage\", \"Peppers\", \"Onions\"]}, {\"type\": \"record\", \"name\": \"Pizza\", \"fields\": [{\"type\": \".Type\", \"name\": \"type\"}, {\"type\": \".Size\", \"name\": \"size\"}, {\"type\": {\"type\": \"array\", \"items\": \".AdditionalToppings\"}, \"name\": \"toppings\"}]}, {\"type\": \"record\", \"name\": \"PizzaOrder\", \"fields\": [{\"type\": \"string\", \"name\": \"customer_name\"}, {\"type\": \"string\", \"name\": \"address\"}, {\"type\": \"string\", \"name\": \"city\"}, {\"type\": \"string\", \"name\": \"state\"}, {\"type\": \"string\", \"name\": \"zipcode\"}, {\"type\": {\"type\": \"array\", \"items\": \".Pizza\"}, \"name\": \"pizzas\"}]}]\\x00\\\\3\\x8d\\x0ev\\x96\\xd5\\x99?\\xa1[[\\xa9\\x90\\x0e\\xfd\\x14\\x96\\n\\x08\\x1cHerman Munster*1313 Mockingbird Lane&Mockingbird Heights\\x14California\\n13131\\x02\\x00\\x00\\x06\\x00\\x02\\x06\\x00\\x00\\x08\\x18US President*1600 Pennsylvania Ave\\x14Washington\\x04DC\\n02020\\x04\\x02\\x06\\x00\\x04\\x02\\x00\\x00\\x08\\x10John Doe\\x1442 Main St\\x18Ruby Heights\\x04IL\\n12345\\x08\\x02\\x02\\x06\\x00\\x04\\x06\\x00\\x02\\x06\\x06\\x06\\x00\\x02\\x00\\x04\\x00\\x02\\x00\\x00\\x00\\x06\\x06\\x02\\x00\\x06\\x00\\x00\\x08\\x10Jane Doe\\x1c347 Alpine Ave\\x0cOrlowe\\x04FL\\n45712\\x02\\x04\\x04\\x02\\x04\\x00\\x00\\x08\\x16Richard Doe 86 Restaurant Rd\\x0eMadison\\x04WI\\n90577\\x08\\x00\\x04\\x00\\x00\\x02\\x06\\x06\\x00\\x02\\x00\\x02\\x06\\x06\\x04\\x06\\x00\\x00\\x00\\x04\\x00\\x00\\x08\\x1cHoward T. Duck$901 Washington Ave\\x10Portland\\x04PA\\n18301\\x04\\x00\\x00\\x06\\x00\\x04\\x02\\x00\\x00\\x04\\x02\\x04\\x00\\x00\\x08\\x16Bruce Wayne 38 Springtown Rd\\x0cGotham\\x04NY\\n21112\\n\\x00\\x02\\x04\\x00\\x06\\x00\\x04\\x04\\x02\\x06\\x00\\x04\\x00\\x04\\x00\\x02\\x00\\x02\\x02\\x00\\x02\\x06\\x06\\x04\\x00\\x02\\x00\\x00\\x08\\x14Clark Kent\\x16492 83rd St\\x14Metropolis\\x04NY\\n12121\\x02\\x04\\x04\\x00\\x00\\x08\\x1aHarold Jordan 314 Simon Circle\\x14Fort Wyatt\\x04ND\\n87561\\x02\\x00\\x06\\x06\\x00\\x02\\x04\\x00\\x00\\x08\\x16Barry Allen\\x1625 Oak Lane\\x18North Platte\\x04NE\\n66581\\x04\\x02\\x06\\x06\\x04\\x02\\x00\\x00\\x04\\x00\\x06\\x00\\x02\\x06\\x00\\x00\\\\3\\x8d\\x0ev\\x96\\xd5\\x99?\\xa1[[\\xa9\\x90\\x0e\\xfd'"
   ]
  },
  {
   "cell_type": "markdown",
   "metadata": {},
   "source": [
    "We need to read these orders, and figure out our total ingredients we need to consume. Once we know our totals, we need to encode them into an avro record that we can send up to our supplier to make sure we keep in stock. The schema that our supplier expects is as follows:"
   ]
  },
  {
   "cell_type": "code",
   "execution_count": 3,
   "metadata": {},
   "outputs": [],
   "source": [
    "ingredient_schema_str = \"\"\"\n",
    "{\n",
    "   \"type\": \"record\",\n",
    "   \"name\": \"ingredients\",\n",
    "   \"fields\": [\n",
    "       {\"name\": \"name\", \"type\": \"string\"},\n",
    "       {\"name\": \"quantity\", \"type\": \"float\"}\n",
    "   ]\n",
    "}\n",
    "\"\"\""
   ]
  },
  {
   "cell_type": "markdown",
   "metadata": {},
   "source": [
    "Show here how you would go about turning the data stream we get into what we need to send to our supplier. We have supplied an `environment.yml` file that will get you a Python3 environment with `avro` support already put together for this."
   ]
  },
  {
   "cell_type": "code",
   "execution_count": 4,
   "metadata": {},
   "outputs": [],
   "source": [
    "from io import BytesIO\n",
    "\n",
    "from avro.datafile import DataFileReader, DataFileWriter\n",
    "from avro.io import DatumReader, DatumWriter\n",
    "from avro.schema import Parse\n"
   ]
  },
  {
   "cell_type": "code",
   "execution_count": null,
   "metadata": {},
   "outputs": [],
   "source": []
  }
 ],
 "metadata": {
  "kernelspec": {
   "display_name": "Python 3",
   "language": "python",
   "name": "python3"
  },
  "language_info": {
   "codemirror_mode": {
    "name": "ipython",
    "version": 3
   },
   "file_extension": ".py",
   "mimetype": "text/x-python",
   "name": "python",
   "nbconvert_exporter": "python",
   "pygments_lexer": "ipython3",
   "version": "3.7.1"
  }
 },
 "nbformat": 4,
 "nbformat_minor": 2
}
